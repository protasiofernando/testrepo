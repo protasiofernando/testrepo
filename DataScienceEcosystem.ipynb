{
  "metadata": {
    "language_info": {
      "codemirror_mode": {
        "name": "python",
        "version": 3
      },
      "file_extension": ".py",
      "mimetype": "text/x-python",
      "name": "python",
      "nbconvert_exporter": "python",
      "pygments_lexer": "ipython3",
      "version": "3.8"
    },
    "kernelspec": {
      "name": "python",
      "display_name": "Python (Pyodide)",
      "language": "python"
    }
  },
  "nbformat_minor": 4,
  "nbformat": 4,
  "cells": [
    {
      "cell_type": "markdown",
      "source": "# Data Science Tools and Ecosystem",
      "metadata": {}
    },
    {
      "cell_type": "markdown",
      "source": "### In this notebook, Data Science Tools and Ecosystem are summarized",
      "metadata": {}
    },
    {
      "cell_type": "markdown",
      "source": "**Objectives:**  ",
      "metadata": {}
    },
    {
      "cell_type": "markdown",
      "source": "- Indicate the most popular languages and libraries used by Data Scientists\n- Perform mathematical operations\n- Demonstrate using tables in Python\n- Demonstrate using ordered and unordered lists in Python",
      "metadata": {}
    },
    {
      "cell_type": "markdown",
      "source": "##### Some of the most popular languages that Data Scientists use are:",
      "metadata": {}
    },
    {
      "cell_type": "markdown",
      "source": "1. Python\n2. R\n3. SQL\n4. Java\n5. Scala\n6. C++",
      "metadata": {}
    },
    {
      "cell_type": "markdown",
      "source": "##### Some of the commonly used libraries used by Data Scientists include:",
      "metadata": {}
    },
    {
      "cell_type": "markdown",
      "source": "1. Pandas\n2. NumPy\n3. SciPy\n4. Matplotlib\n6. TensorFlow\n7. PyTorch\n8. Keras\n9. Scikit-learn",
      "metadata": {}
    },
    {
      "cell_type": "markdown",
      "source": "| Data Science Tools |\n| ------ |\n| R Studio | \n|Jupyter Notebooks | \n| Spyder  | ",
      "metadata": {}
    },
    {
      "cell_type": "markdown",
      "source": "### Below are a few examples of evaluating arithmetic expressions in Python",
      "metadata": {}
    },
    {
      "cell_type": "code",
      "source": "# This a simple arithmetic expression to mutiply then add integers\n(3*4)+5",
      "metadata": {
        "trusted": true
      },
      "execution_count": 3,
      "outputs": [
        {
          "execution_count": 3,
          "output_type": "execute_result",
          "data": {
            "text/plain": "17"
          },
          "metadata": {}
        }
      ]
    },
    {
      "cell_type": "code",
      "source": "# This will convert 200 minutes to hours by diving by 60\n200/60",
      "metadata": {
        "trusted": true
      },
      "execution_count": 4,
      "outputs": [
        {
          "execution_count": 4,
          "output_type": "execute_result",
          "data": {
            "text/plain": "3.3333333333333335"
          },
          "metadata": {}
        }
      ]
    },
    {
      "cell_type": "markdown",
      "source": "## Author\nFernando Protasio",
      "metadata": {}
    }
  ]
}